{
 "cells": [
  {
   "cell_type": "markdown",
   "source": [
    "# Preprocessing and Mask-creating pipeline\n",
    "\n",
    "## Imports"
   ],
   "metadata": {
    "collapsed": false
   },
   "id": "f2b88fa73dbdfcfb"
  },
  {
   "cell_type": "code",
   "outputs": [],
   "source": [
    "import os\n",
    "from src.utils import load_yaml, build_paths"
   ],
   "metadata": {
    "collapsed": false
   },
   "id": "7c7ff21ad70a01ec",
   "execution_count": null
  },
  {
   "cell_type": "markdown",
   "source": [
    "## Config loading and folder structure creation\n",
    "\n",
    "Firstly, we need to load the configuration file, where the paths of the directories that will be used during preprocessing, mask generation, and mask fusing are specified.\n",
    "\n",
    "**Prerequisites:**\n",
    "- Existing folders and files in root directory:\n",
    "    - `./data/raw-train/images/`\n",
    "    - `./data/raw-train/tiger-coco.json`\n",
    "    - `/data/raw-test/images/`\n",
    "    - `/data/raw-test/masks/`\n",
    "    - `./data/processed-train/`\n",
    "    - `/data/processed-test/`\n",
    " \n",
    "You can easily change the root data path `./data` and all the other paths based on your preference in the `./configs/paths.yaml` file. "
   ],
   "metadata": {
    "collapsed": false
   },
   "id": "72fc6d72785c6123"
  },
  {
   "cell_type": "code",
   "outputs": [],
   "source": [
    "# Load the config where paths are specified\n",
    "paths = load_yaml(\"./configs/paths.yaml\")"
   ],
   "metadata": {
    "collapsed": false
   },
   "id": "b684bc71ee2ca612",
   "execution_count": null
  },
  {
   "cell_type": "code",
   "outputs": [],
   "source": [
    "paths[\"pseudo_mask_dirs\"][\"all\"]"
   ],
   "metadata": {
    "collapsed": false
   },
   "id": "9bd5f81bce9e4929",
   "execution_count": null
  },
  {
   "cell_type": "code",
   "outputs": [],
   "source": [
    "# Root\n",
    "root = paths[\"root_data_dir\"]\n",
    "\n",
    "# First level paths\n",
    "raw_train = os.path.join(root, paths[\"raw_train\"])\n",
    "raw_test = os.path.join(root, paths[\"raw_test\"])\n",
    "processed_train = os.path.join(root, paths[\"processed_train\"])\n",
    "processed_test = os.path.join(root, paths[\"processed_test\"])\n",
    "\n",
    "# Path chunks\n",
    "images = paths[\"images\"]\n",
    "masks = paths[\"masks\"]\n",
    "patches = paths[\"patches\"]\n",
    "tiger_annotations = paths[\"tiger_annotations\"]\n",
    "tnbc_binary_masks = paths[\"tnbc_binary_masks\"]\n",
    "scaled = paths[\"scaled\"]\n",
    "folds = paths[\"folds\"]\n",
    "\n",
    "# Image source chunks\n",
    "eq = paths[\"source_dirs\"][\"raw_eq\"]\n",
    "normalized = paths[\"source_dirs\"][\"normalized\"]\n",
    "normalized_eq = paths[\"source_dirs\"][\"normalized_eq\"]\n",
    "hematoxylin = paths[\"source_dirs\"][\"hematoxylin\"]\n",
    "hematoxylin_eq = paths[\"source_dirs\"][\"hematoxylin_eq\"]\n",
    "\n",
    "# Raw data paths\n",
    "raw_train_images = os.path.join(raw_train, images)\n",
    "raw_test_images = os.path.join(raw_test, images)\n",
    "raw_test_masks = os.path.join(raw_test, masks)\n",
    "\n",
    "# Processed train data paths\n",
    "train_eq = os.path.join(processed_train, eq)\n",
    "train_normalized = os.path.join(processed_train, normalized)\n",
    "train_normalized_eq = os.path.join(processed_train, normalized_eq)\n",
    "train_hematoxylin = os.path.join(processed_train, hematoxylin)\n",
    "train_hematoxylin_eq = os.path.join(processed_train, hematoxylin_eq)\n",
    "train_patches = os.path.join(processed_train, patches)\n",
    "train_masks = os.path.join(processed_train, masks)\n",
    "\n",
    "# Paths where created pseudo-masks will be stored\n",
    "train_pseudo_masks_all = build_paths(train_masks, paths[\"pseudo_mask_dirs\"][\"all\"])\n",
    "train_pseudo_masks_best_75 = build_paths(train_masks, paths[\"pseudo_mask_dirs\"][\"best_75\"])\n",
    "train_pseudo_masks_best_50 = build_paths(train_masks, paths[\"pseudo_mask_dirs\"][\"best_50\"])\n",
    "train_pseudo_masks_best_25 = build_paths(train_masks, paths[\"pseudo_mask_dirs\"][\"best_25\"])\n",
    "train_pseudo_masks_leave_fused = build_paths(train_masks, paths[\"pseudo_mask_dirs\"][\"fused\"])\n",
    "\n",
    "# Processed test data paths\n",
    "test_binary_masks = os.path.join(processed_test, tnbc_binary_masks)\n",
    "test_normalized = os.path.join(processed_test, normalized)\n",
    "test_scaled = os.path.join(processed_test, scaled)\n",
    "test_patches = os.path.join(processed_test, patches)\n",
    "test_folds = os.path.join(test_patches, folds)"
   ],
   "metadata": {
    "collapsed": false
   },
   "id": "964a4896fcb21d85",
   "execution_count": null
  },
  {
   "cell_type": "code",
   "outputs": [],
   "source": [
    "# Create directories\n",
    "dirs_to_create = [\n",
    "    # processed train\n",
    "    train_eq,\n",
    "    train_normalized,\n",
    "    train_normalized_eq,\n",
    "    train_hematoxylin,\n",
    "    train_hematoxylin_eq,\n",
    "    train_patches,\n",
    "    train_masks,\n",
    "    # processed test\n",
    "    test_binary_masks,\n",
    "    test_normalized,\n",
    "    test_scaled,\n",
    "    test_patches,\n",
    "    test_folds\n",
    "]\n",
    "\n",
    "# adding pseudo-mask directories\n",
    "dirs_to_create += train_pseudo_masks_all\n",
    "dirs_to_create += train_pseudo_masks_best_75\n",
    "dirs_to_create += train_pseudo_masks_best_50\n",
    "dirs_to_create += train_pseudo_masks_best_25\n",
    "dirs_to_create += train_pseudo_masks_leave_fused\n",
    "\n",
    "skipped = 0\n",
    "for directory in dirs_to_create:\n",
    "    if os.path.exists(directory):\n",
    "        skipped += 1\n",
    "        print(f\"Directory '{directory}' already exists. Skipping.\")\n",
    "        continue\n",
    "    os.makedirs(directory, exist_ok=True)\n",
    "    print(f\"Created directory '{directory}'\")\n",
    "print(f\"Created {len(dirs_to_create)-skipped} directories, skipped {skipped}.\")"
   ],
   "metadata": {
    "collapsed": false
   },
   "id": "19f528da1f7e09bf",
   "execution_count": null
  },
  {
   "cell_type": "code",
   "outputs": [],
   "source": [],
   "metadata": {
    "collapsed": false
   },
   "id": "9ad20c479ba77d33"
  }
 ],
 "metadata": {
  "kernelspec": {
   "display_name": "Python 3",
   "language": "python",
   "name": "python3"
  },
  "language_info": {
   "codemirror_mode": {
    "name": "ipython",
    "version": 2
   },
   "file_extension": ".py",
   "mimetype": "text/x-python",
   "name": "python",
   "nbconvert_exporter": "python",
   "pygments_lexer": "ipython2",
   "version": "2.7.6"
  }
 },
 "nbformat": 4,
 "nbformat_minor": 5
}
