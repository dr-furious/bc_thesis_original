{
 "cells": [
  {
   "cell_type": "code",
   "outputs": [],
   "source": [
    "json_path = \"./data/raw/tiger-coco.json\"\n",
    "img_dir = \"./data/raw/\"\n",
    "img_dir_precise = \"./data/raw/images\"\n",
    "crop_rois_dir = \"./data/processed/cropped/\"\n",
    "processed_dir = \"./data/processed/\""
   ],
   "metadata": {
    "collapsed": false,
    "ExecuteTime": {
     "end_time": "2025-04-18T10:16:06.256844Z",
     "start_time": "2025-04-18T10:16:06.253999Z"
    }
   },
   "id": "6323817a75f26f01",
   "execution_count": 1
  },
  {
   "cell_type": "code",
   "outputs": [],
   "source": [
    "from src.image_preprocessor import ImageProcessor\n",
    "\n",
    "image_processor = ImageProcessor(img_dir_precise)\n",
    "target_images = image_processor.select_random_images()\n",
    "image_processor.normalize(target_images, out_dir=processed_dir)"
   ],
   "metadata": {
    "collapsed": false
   },
   "id": "e25e6795a02ec8ab",
   "execution_count": null
  },
  {
   "cell_type": "code",
   "outputs": [],
   "source": [
    "hem_process2 = ImageProcessor(\"./data/processed/hematoxylin/\")\n",
    "hem_targets = hem_process2.select_random_images()\n",
    "image_processor.normalize(hem_targets, out_dir=\"./data/processed/hem2\")"
   ],
   "metadata": {
    "collapsed": false
   },
   "id": "65ff9c76efcc5733",
   "execution_count": null
  },
  {
   "cell_type": "code",
   "outputs": [],
   "source": [
    "from src.image_stats import ImageStats\n",
    "\n",
    "img_stats = ImageStats(\"./data/processed/hematoxylin\")\n",
    "img_stats.get_image_stats(visual=True)\n",
    "img_stats = ImageStats(\"./data/processed/hem2/hematoxylin\")\n",
    "img_stats.get_image_stats(visual=True)"
   ],
   "metadata": {
    "collapsed": false
   },
   "id": "329ac5f1fda55fa8",
   "execution_count": null
  },
  {
   "cell_type": "code",
   "outputs": [],
   "source": [
    "std = img_stats.contrast_std()\n",
    "michelson = img_stats.michelson_contrast()"
   ],
   "metadata": {
    "collapsed": false
   },
   "id": "4e6df3ddb853ed71",
   "execution_count": null
  },
  {
   "cell_type": "code",
   "outputs": [],
   "source": [
    "from src.mask_generator import MaskGenerator\n",
    "\n",
    "mask_generator = MaskGenerator(\"./data/processed/hematoxylin\")\n",
    "mask_generator.cut_cells(json_path=json_path, out_dir=\"./data/processed/cropped_class\")"
   ],
   "metadata": {
    "collapsed": false,
    "ExecuteTime": {
     "end_time": "2025-04-18T10:16:53.480572Z",
     "start_time": "2025-04-18T10:16:09.136369Z"
    }
   },
   "id": "c8baa2104198b6ba",
   "execution_count": 2
  },
  {
   "cell_type": "code",
   "outputs": [],
   "source": [
    "from src.crop_rois import image_rois_from_coco_json\n",
    "\n",
    "image_rois_from_coco_json(json_path=json_path, image_dir=\"./data/processed/hem2/hematoxylin\", output_dir=\"./data/processed/hem2/cropped_hematoxylin\")"
   ],
   "metadata": {
    "collapsed": false
   },
   "id": "355d46c94979781f",
   "execution_count": null
  },
  {
   "cell_type": "code",
   "execution_count": null,
   "id": "initial_id",
   "metadata": {
    "collapsed": true
   },
   "outputs": [],
   "source": [
    "image_path = \"./data/processed/hem2/cropped_hematoxylin/TCGA-A7-A6VW-01Z-00-DX1.1BC4790C-DB45-4A3D-9C97-92C92C03FF60_[34923, 9391, 35062, 9535]_-_66_25_16_16.png\""
   ]
  },
  {
   "cell_type": "code",
   "outputs": [],
   "source": [
    "from src.sample import Sample\n",
    "\n",
    "sample = Sample(image_path)\n",
    "sample.show()"
   ],
   "metadata": {
    "collapsed": false
   },
   "id": "8e6036960fd3f1b3",
   "execution_count": null
  },
  {
   "cell_type": "code",
   "outputs": [],
   "source": [
    "sample.equalize_hist(inplace=True)\n",
    "sample.show()"
   ],
   "metadata": {
    "collapsed": false
   },
   "id": "8a3648ef509770f0",
   "execution_count": null
  },
  {
   "cell_type": "code",
   "outputs": [],
   "source": [
    "sample.otsu_thresholding(inplace=True)"
   ],
   "metadata": {
    "collapsed": false
   },
   "id": "35cd6e28f76abfd",
   "execution_count": null
  },
  {
   "cell_type": "code",
   "outputs": [],
   "source": [
    "sample.show(with_mask=True)"
   ],
   "metadata": {
    "collapsed": false
   },
   "id": "653540d7e42fe4bc",
   "execution_count": null
  },
  {
   "cell_type": "code",
   "outputs": [],
   "source": [],
   "metadata": {
    "collapsed": false
   },
   "id": "e612915cca97e627",
   "execution_count": null
  },
  {
   "cell_type": "code",
   "outputs": [],
   "source": [],
   "metadata": {
    "collapsed": false
   },
   "id": "485e1379230e311f"
  }
 ],
 "metadata": {
  "kernelspec": {
   "display_name": "Python 3",
   "language": "python",
   "name": "python3"
  },
  "language_info": {
   "codemirror_mode": {
    "name": "ipython",
    "version": 2
   },
   "file_extension": ".py",
   "mimetype": "text/x-python",
   "name": "python",
   "nbconvert_exporter": "python",
   "pygments_lexer": "ipython2",
   "version": "2.7.6"
  }
 },
 "nbformat": 4,
 "nbformat_minor": 5
}
