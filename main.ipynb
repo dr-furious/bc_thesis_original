{
 "cells": [
  {
   "cell_type": "code",
   "outputs": [],
   "source": [
    "json_path = \"./data/raw-train/tiger-coco.json\"\n",
    "img_dir = \"./data/raw-train/\"\n",
    "img_dir_precise = \"./data/raw-train/images\"\n",
    "crop_rois_dir = \"./data/processed-train/cropped/\"\n",
    "processed_dir = \"./data/processed-train/\""
   ],
   "metadata": {
    "collapsed": false
   },
   "id": "6323817a75f26f01",
   "execution_count": null
  },
  {
   "cell_type": "code",
   "outputs": [],
   "source": [
    "from src.image_preprocessor import ImageProcessor, InplaceOption\n",
    "\n",
    "image_processor = ImageProcessor(\"./data/raw-test/images\")"
   ],
   "metadata": {
    "collapsed": false
   },
   "id": "e25e6795a02ec8ab",
   "execution_count": null
  },
  {
   "cell_type": "code",
   "outputs": [],
   "source": [
    "target_images = image_processor.select_random_images()\n",
    "image_processor.normalize(target_images, out_dir=processed_dir, inplace=True, inplace_option=InplaceOption.HEMATOXYLIN)\n",
    "image_processor.equalize_hist(inplace=True, out_dir=\"./data/processed-train/equalized_hist\")"
   ],
   "metadata": {
    "collapsed": false
   },
   "id": "616d0b24646bc0a7",
   "execution_count": null
  },
  {
   "cell_type": "code",
   "outputs": [],
   "source": [
    "image_processor.relabel_binary(masks_dir=\"./data/raw-test/masks\", out_dir=\"./data/processed-test/masks_binary\", target_class=2)"
   ],
   "metadata": {
    "collapsed": false
   },
   "id": "2d31ea19f956acd4",
   "execution_count": null
  },
  {
   "cell_type": "code",
   "outputs": [],
   "source": [
    "image_processor.scale(masks_dirs=[\"./data/processed-test/masks_binary\"], out_dir=\"./data/processed-test/scaled\", inplace=True)"
   ],
   "metadata": {
    "collapsed": false
   },
   "id": "ef2473fd9c48adde",
   "execution_count": null
  },
  {
   "cell_type": "code",
   "outputs": [],
   "source": [
    "image_processor.extract_patches(masks_dirs=[\"./data/processed-test/scaled/masks/\"], out_dir=\"./data/processed-test/patches\")"
   ],
   "metadata": {
    "collapsed": false
   },
   "id": "50a887ed75b73c8b",
   "execution_count": null
  },
  {
   "cell_type": "code",
   "outputs": [],
   "source": [
    "from src.image_stats import ImageStats\n",
    "\n",
    "img_stats = ImageStats(\"./data/processed-train/patches/images\")\n",
    "img_stats.get_image_stats(visual=True)"
   ],
   "metadata": {
    "collapsed": false
   },
   "id": "329ac5f1fda55fa8",
   "execution_count": null
  },
  {
   "cell_type": "code",
   "outputs": [],
   "source": [
    "std = img_stats.contrast_std()\n",
    "michelson = img_stats.michelson_contrast()"
   ],
   "metadata": {
    "collapsed": false
   },
   "id": "4e6df3ddb853ed71",
   "execution_count": null
  },
  {
   "cell_type": "code",
   "outputs": [],
   "source": [
    "from src.mask_generator import MaskGenerator, MaskOperations\n",
    "\n",
    "mask_generator = MaskGenerator(\"./data/raw-train/images\", json_file_path=\"./data/raw-train/tiger-coco.json\")"
   ],
   "metadata": {
    "collapsed": false,
    "ExecuteTime": {
     "end_time": "2025-04-24T16:07:41.690212Z",
     "start_time": "2025-04-24T16:07:40.765567Z"
    }
   },
   "id": "c8baa2104198b6ba",
   "execution_count": 1
  },
  {
   "cell_type": "code",
   "outputs": [],
   "source": [
    "mask_generator._fuse_masks(masks_dir=\"./data/processed-train/masks\", out_dir=\"./data/processed-train/masks_fused\", colorized_dir=\"./data/processed-train/masks_fused_color\")"
   ],
   "metadata": {
    "collapsed": false,
    "ExecuteTime": {
     "end_time": "2025-04-24T16:08:24.932026Z",
     "start_time": "2025-04-24T16:07:41.697235Z"
    }
   },
   "id": "1cef14475ed13aa9",
   "execution_count": 2
  },
  {
   "cell_type": "code",
   "outputs": [],
   "source": [
    "from src.sample import Sample\n",
    "\n",
    "sample = Sample(img_path=\"./data/processed-test/images_patch/09_4.png_(256_256).png\", mask_path=\"./data/processed-test/masks_patch/09_4.png_(256_256).png\")\n",
    "sample.show(with_mask=True)"
   ],
   "metadata": {
    "collapsed": false
   },
   "id": "8e6036960fd3f1b3",
   "execution_count": null
  },
  {
   "cell_type": "code",
   "outputs": [],
   "source": [],
   "metadata": {
    "collapsed": false
   },
   "id": "8a3648ef509770f0",
   "execution_count": null
  },
  {
   "cell_type": "code",
   "outputs": [],
   "source": [],
   "metadata": {
    "collapsed": false
   },
   "id": "35cd6e28f76abfd",
   "execution_count": null
  },
  {
   "cell_type": "code",
   "outputs": [],
   "source": [],
   "metadata": {
    "collapsed": false
   },
   "id": "653540d7e42fe4bc",
   "execution_count": null
  },
  {
   "cell_type": "code",
   "outputs": [],
   "source": [],
   "metadata": {
    "collapsed": false
   },
   "id": "e612915cca97e627",
   "execution_count": null
  },
  {
   "cell_type": "code",
   "outputs": [],
   "source": [],
   "metadata": {
    "collapsed": false
   },
   "id": "485e1379230e311f"
  }
 ],
 "metadata": {
  "kernelspec": {
   "display_name": "Python 3",
   "language": "python",
   "name": "python3"
  },
  "language_info": {
   "codemirror_mode": {
    "name": "ipython",
    "version": 2
   },
   "file_extension": ".py",
   "mimetype": "text/x-python",
   "name": "python",
   "nbconvert_exporter": "python",
   "pygments_lexer": "ipython2",
   "version": "2.7.6"
  }
 },
 "nbformat": 4,
 "nbformat_minor": 5
}
