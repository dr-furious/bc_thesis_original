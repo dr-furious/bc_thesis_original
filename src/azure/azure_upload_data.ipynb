{
 "cells": [
  {
   "cell_type": "markdown",
   "source": [
    "# Uploading data to Azure\n",
    "\n",
    "**!Important!** \n",
    "This script uses **Azure SDKv1** for the uploading of the data. \n",
    "The notebook used for creation of the training job uses **Azure SDKv2**"
   ],
   "metadata": {
    "collapsed": false
   }
  },
  {
   "cell_type": "code",
   "execution_count": null,
   "metadata": {
    "collapsed": true,
    "pycharm": {
     "name": "#%%\n"
    }
   },
   "outputs": [],
   "source": [
    "from azureml.core import Workspace\n",
    "from azureml.core.authentication import InteractiveLoginAuthentication\n",
    "from azureml.core.datastore import Datastore\n",
    "from src.utils import load_yaml"
   ]
  },
  {
   "cell_type": "code",
   "execution_count": null,
   "outputs": [],
   "source": [
    "# Connect to workspace\n",
    "ws = Workspace.from_config(path=\"./../../configs/azure_connect_example.json\", auth=InteractiveLoginAuthentication())\n",
    "ws"
   ],
   "metadata": {
    "collapsed": false,
    "pycharm": {
     "name": "#%%\n"
    }
   }
  },
  {
   "cell_type": "code",
   "execution_count": null,
   "outputs": [],
   "source": [
    "# Get default datastore and check its path\n",
    "datastore = Datastore.get_default(ws)\n",
    "datastore.path()"
   ],
   "metadata": {
    "collapsed": false,
    "pycharm": {
     "name": "#%%\n"
    }
   }
  },
  {
   "cell_type": "code",
   "outputs": [],
   "source": [
    "# Load the config yaml with upload instructions\n",
    "upload_config = load_yaml(\"./../../configs/azure_upload_data.yaml\")\n",
    "upload_config"
   ],
   "metadata": {
    "collapsed": false
   },
   "execution_count": null
  },
  {
   "cell_type": "code",
   "execution_count": null,
   "outputs": [],
   "source": [
    "# Upload local folder to the folder on the remote repository\n",
    "datastore.upload(\n",
    "    src_dir=upload_config[\"src_dir\"],            # local folder\n",
    "    target_path=upload_config[\"target_path\"], # path in blob storage\n",
    "    overwrite=upload_config[\"overwrite\"],                # overwrite if exists\n",
    "    show_progress=upload_config[\"show_progress\"]\n",
    ")"
   ],
   "metadata": {
    "collapsed": false,
    "pycharm": {
     "name": "#%%\n"
    }
   }
  },
  {
   "cell_type": "code",
   "outputs": [],
   "source": [],
   "metadata": {
    "collapsed": false
   }
  }
 ],
 "metadata": {
  "kernelspec": {
   "display_name": "Python 3",
   "language": "python",
   "name": "python3"
  },
  "language_info": {
   "codemirror_mode": {
    "name": "ipython",
    "version": 2
   },
   "file_extension": ".py",
   "mimetype": "text/x-python",
   "name": "python",
   "nbconvert_exporter": "python",
   "pygments_lexer": "ipython2",
   "version": "2.7.6"
  }
 },
 "nbformat": 4,
 "nbformat_minor": 0
}
