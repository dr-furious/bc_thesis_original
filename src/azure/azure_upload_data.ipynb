{
 "cells": [
  {
   "cell_type": "markdown",
   "source": [
    "# Uploading data to Azure\n",
    "\n",
    "**!Important!** \n",
    "This script uses **Azure SDKv1** for the uploading the data. \n",
    "The notebook used for creation of the training job uses **Azure SDKv2**"
   ],
   "metadata": {
    "collapsed": false
   }
  },
  {
   "cell_type": "code",
   "execution_count": 6,
   "metadata": {
    "collapsed": true,
    "pycharm": {
     "name": "#%%\n"
    },
    "ExecuteTime": {
     "end_time": "2025-05-10T18:10:53.297524Z",
     "start_time": "2025-05-10T18:10:53.290547Z"
    }
   },
   "outputs": [],
   "source": [
    "from azureml.core import Workspace\n",
    "from azureml.core.authentication import InteractiveLoginAuthentication\n",
    "from azureml.core.datastore import Datastore\n",
    "from src.utils import load_yaml"
   ]
  },
  {
   "cell_type": "code",
   "execution_count": 7,
   "outputs": [
    {
     "data": {
      "text/plain": "Workspace.create(name='a0047stufiitml01', subscription_id='bc82dccd-f19d-42cb-9ce3-0d5df33ef086', resource_group='a0047-STUFIIT-ML01')"
     },
     "execution_count": 7,
     "metadata": {},
     "output_type": "execute_result"
    }
   ],
   "source": [
    "# Connect to workspace\n",
    "ws = Workspace.from_config(path=\"./../../configs/azure_connect.json\", auth=InteractiveLoginAuthentication())\n",
    "ws"
   ],
   "metadata": {
    "collapsed": false,
    "pycharm": {
     "name": "#%%\n"
    },
    "ExecuteTime": {
     "end_time": "2025-05-10T18:10:54.763867Z",
     "start_time": "2025-05-10T18:10:53.712147Z"
    }
   }
  },
  {
   "cell_type": "code",
   "execution_count": 8,
   "outputs": [
    {
     "data": {
      "text/plain": "$AZUREML_DATAREFERENCE_workspaceblobstore"
     },
     "execution_count": 8,
     "metadata": {},
     "output_type": "execute_result"
    }
   ],
   "source": [
    "# Get default datastore and check its path\n",
    "datastore = Datastore.get_default(ws)\n",
    "datastore.path()"
   ],
   "metadata": {
    "collapsed": false,
    "pycharm": {
     "name": "#%%\n"
    },
    "ExecuteTime": {
     "end_time": "2025-05-10T18:10:56.669234Z",
     "start_time": "2025-05-10T18:10:55.698249Z"
    }
   }
  },
  {
   "cell_type": "code",
   "outputs": [],
   "source": [
    "# Load the config yaml with upload instructions\n",
    "upload_config = load_yaml(\"./../../configs/azure_upload_data.yaml\")"
   ],
   "metadata": {
    "collapsed": false
   }
  },
  {
   "cell_type": "code",
   "execution_count": null,
   "outputs": [],
   "source": [
    "# Upload local folder to the folder on the remote repository\n",
    "datastore.upload(\n",
    "    src_dir=upload_config[\"src_dir\"],            # local folder\n",
    "    target_path=upload_config[\"target_path\"], # path in blob storage\n",
    "    overwrite=upload_config[\"overwrite\"],                # overwrite if exists\n",
    "    show_progress=upload_config[\"show_progress\"]\n",
    ")"
   ],
   "metadata": {
    "collapsed": false,
    "pycharm": {
     "name": "#%%\n"
    }
   }
  }
 ],
 "metadata": {
  "kernelspec": {
   "display_name": "Python 3",
   "language": "python",
   "name": "python3"
  },
  "language_info": {
   "codemirror_mode": {
    "name": "ipython",
    "version": 2
   },
   "file_extension": ".py",
   "mimetype": "text/x-python",
   "name": "python",
   "nbconvert_exporter": "python",
   "pygments_lexer": "ipython2",
   "version": "2.7.6"
  }
 },
 "nbformat": 4,
 "nbformat_minor": 0
}
