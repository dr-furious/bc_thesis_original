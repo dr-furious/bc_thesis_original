{
 "cells": [
  {
   "cell_type": "markdown",
   "source": [
    "# Job creation and submission to Azure\n",
    "\n",
    "**!Important!** \n",
    "This script uses **Azure SDKv2** for the creation of the training job. \n",
    "The notebook used for uploading the data uses **Azure SDKv1**"
   ],
   "metadata": {
    "collapsed": false
   },
   "id": "aa31f784b046780d"
  },
  {
   "cell_type": "code",
   "execution_count": 44,
   "id": "initial_id",
   "metadata": {
    "collapsed": true,
    "ExecuteTime": {
     "end_time": "2025-05-10T20:35:42.732604Z",
     "start_time": "2025-05-10T20:35:42.729395Z"
    }
   },
   "outputs": [],
   "source": [
    "import os\n",
    "from azure.ai.ml import MLClient, Input\n",
    "from azure.identity import DefaultAzureCredential\n",
    "from azure.ai.ml.entities import Environment\n",
    "from azure.ai.ml import command\n",
    "\n",
    "from src.utils import load_json, load_yaml"
   ]
  },
  {
   "cell_type": "code",
   "outputs": [
    {
     "data": {
      "text/plain": "{'subscription_id': 'bc82dccd-f19d-42cb-9ce3-0d5df33ef086',\n 'resource_group': 'a0047-STUFIIT-ML01',\n 'workspace_name': 'a0047stufiitml01'}"
     },
     "execution_count": 45,
     "metadata": {},
     "output_type": "execute_result"
    }
   ],
   "source": [
    "azure_connect_conf = load_json(\"./../../configs/azure_connect_example.json\")\n",
    "azure_connect_conf"
   ],
   "metadata": {
    "collapsed": false,
    "ExecuteTime": {
     "end_time": "2025-05-10T20:35:42.737617Z",
     "start_time": "2025-05-10T20:35:42.734113Z"
    }
   },
   "id": "3153cb0d966af0f6",
   "execution_count": 45
  },
  {
   "cell_type": "code",
   "outputs": [],
   "source": [
    "azure_job_conf = load_yaml(\"./../../configs/azure_job.yaml\")\n",
    "dataset_conf = azure_job_conf[\"dataset\"]\n",
    "environment_conf = azure_job_conf[\"environment\"]\n",
    "job_conf = azure_job_conf[\"job\"]\n",
    "job_args_conf = job_conf[\"args\"]"
   ],
   "metadata": {
    "collapsed": false,
    "ExecuteTime": {
     "end_time": "2025-05-10T20:35:42.749490Z",
     "start_time": "2025-05-10T20:35:42.744845Z"
    }
   },
   "id": "88102af6eab38165",
   "execution_count": 46
  },
  {
   "cell_type": "code",
   "outputs": [
    {
     "name": "stderr",
     "output_type": "stream",
     "text": [
      "Overriding of current TracerProvider is not allowed\n",
      "Overriding of current LoggerProvider is not allowed\n",
      "Overriding of current MeterProvider is not allowed\n",
      "Attempting to instrument while already instrumented\n",
      "Attempting to instrument while already instrumented\n",
      "Attempting to instrument while already instrumented\n"
     ]
    }
   ],
   "source": [
    "# Authenticate and create a MLClient instance\n",
    "credential = DefaultAzureCredential()\n",
    "ml_client = MLClient(\n",
    "    credential=credential,\n",
    "    subscription_id=azure_connect_conf[\"subscription_id\"],\n",
    "    resource_group_name=azure_connect_conf[\"resource_group\"],\n",
    "    workspace_name=azure_connect_conf[\"workspace_name\"]\n",
    ")"
   ],
   "metadata": {
    "collapsed": false,
    "ExecuteTime": {
     "end_time": "2025-05-10T20:35:43.031618Z",
     "start_time": "2025-05-10T20:35:42.758338Z"
    }
   },
   "id": "12761ba04b0f9376",
   "execution_count": 47
  },
  {
   "cell_type": "code",
   "outputs": [
    {
     "name": "stdout",
     "output_type": "stream",
     "text": [
      "a0047stufiitml01\twesteurope\ta0047-STUFIIT-ML01\n"
     ]
    }
   ],
   "source": [
    "# Check connection to workspace\n",
    "ws = ml_client.workspaces.get(ml_client.workspace_name)\n",
    "print(ws.name, ws.location, ws.resource_group, sep='\\t')"
   ],
   "metadata": {
    "collapsed": false,
    "ExecuteTime": {
     "end_time": "2025-05-10T20:35:44.629567Z",
     "start_time": "2025-05-10T20:35:43.032961Z"
    }
   },
   "id": "3578cc4620b27a11",
   "execution_count": 48
  },
  {
   "cell_type": "code",
   "outputs": [
    {
     "name": "stdout",
     "output_type": "stream",
     "text": [
      "xsivakm1_tiger_segmentation\n",
      "azureml://subscriptions/bc82dccd-f19d-42cb-9ce3-0d5df33ef086/resourcegroups/a0047-STUFIIT-ML01/workspaces/a0047stufiitml01/datastores/workspaceblobstore/paths/datasets/sivak-tiger/thrash/\n"
     ]
    }
   ],
   "source": [
    "# Get created Dataset as Data Asset\n",
    "dataset = ml_client.data.get(name=dataset_conf[\"name\"], version=dataset_conf[\"version\"])\n",
    "\n",
    "print(dataset.name)\n",
    "print(dataset.path)"
   ],
   "metadata": {
    "collapsed": false,
    "ExecuteTime": {
     "end_time": "2025-05-10T20:35:45.264407Z",
     "start_time": "2025-05-10T20:35:44.631180Z"
    }
   },
   "id": "d97f0a2e248f1dc7",
   "execution_count": 49
  },
  {
   "cell_type": "code",
   "outputs": [
    {
     "name": "stdout",
     "output_type": "stream",
     "text": [
      "conda_file:\n",
      "  channels:\n",
      "  - defaults\n",
      "  - conda-forge\n",
      "  dependencies:\n",
      "  - python=3.12\n",
      "  - pip\n",
      "  - pip:\n",
      "    - torch\n",
      "    - torchvision\n",
      "    - pytorch-lightning\n",
      "    - segmentation-models-pytorch\n",
      "    - wandb\n",
      "    - opencv-python-headless\n",
      "    - pyyaml\n",
      "    - json5\n",
      "    - scikit-learn\n",
      "  name: tiger-segmentation\n",
      "description: For segmentation training on TIGER dataset\n",
      "image: mcr.microsoft.com/azureml/openmpi4.1.0-ubuntu20.04\n",
      "name: tiger-segmentation\n",
      "tags: {}\n"
     ]
    }
   ],
   "source": [
    "# Prepare Environment\n",
    "env = Environment(\n",
    "    name=environment_conf[\"name\"],\n",
    "    description=environment_conf[\"description\"],\n",
    "    image=environment_conf[\"image\"],\n",
    "    conda_file=environment_conf[\"conda_file\"]\n",
    ")\n",
    "\n",
    "print(env)"
   ],
   "metadata": {
    "collapsed": false,
    "ExecuteTime": {
     "end_time": "2025-05-10T20:35:45.277169Z",
     "start_time": "2025-05-10T20:35:45.267229Z"
    }
   },
   "id": "42862bc6e84b8f6",
   "execution_count": 50
  },
  {
   "cell_type": "code",
   "outputs": [
    {
     "name": "stderr",
     "output_type": "stream",
     "text": [
      "Warning: the provided asset name 'tiger-segmentation' will not be used for anonymous registration\n",
      "Warning: the provided asset name 'tiger-segmentation' will not be used for anonymous registration\n",
      "\u001B[32mUploading bc_project (0.02 MBs): 100%|██████████| 18953/18953 [00:00<00:00, 42561.44it/s]\n",
      "\u001B[39m\n",
      "\n"
     ]
    },
    {
     "data": {
      "text/plain": "Command({'parameters': {}, 'init': False, 'name': 'great_toe_q6mfgx0ztj', 'type': 'command', 'status': 'Starting', 'log_files': None, 'description': None, 'tags': {}, 'properties': {'mlflow.source.git.repoURL': 'https://github.com/dr-furious/bc_thesis_original.git', 'mlflow.source.git.branch': 'main', 'mlflow.source.git.commit': '5a2947f1612c028a353898b8059d95cc04cce3b8', 'azureml.git.dirty': 'True', '_azureml.ComputeTargetType': 'amlctrain', '_azureml.ClusterName': 'xsivakm1-24-v100', 'ContentSnapshotId': 'f529f0c2-b204-4eaf-b3ab-e22124c24a87'}, 'print_as_yaml': False, 'id': '/subscriptions/bc82dccd-f19d-42cb-9ce3-0d5df33ef086/resourceGroups/a0047-STUFIIT-ML01/providers/Microsoft.MachineLearningServices/workspaces/a0047stufiitml01/jobs/great_toe_q6mfgx0ztj', 'Resource__source_path': '', 'base_path': '/Users/martinsivak/Library/CloudStorage/OneDrive-SlovenskátechnickáuniverzitavBratislave/FIIT-STU/bc_thesis/bc_project/src/azure', 'creation_context': <azure.ai.ml.entities._system_data.SystemData object at 0x137d985c0>, 'serialize': <msrest.serialization.Serializer object at 0x134c4ce30>, 'allowed_keys': {}, 'key_restriction': False, 'logger': <Logger attr_dict (WARNING)>, 'display_name': 'segmentation_training', 'experiment_name': 'xsivakm1_segmentation', 'compute': 'xsivakm1-24-v100', 'services': {'Tracking': {'endpoint': 'azureml://westeurope.api.azureml.ms/mlflow/v1.0/subscriptions/bc82dccd-f19d-42cb-9ce3-0d5df33ef086/resourceGroups/a0047-STUFIIT-ML01/providers/Microsoft.MachineLearningServices/workspaces/a0047stufiitml01?', 'type': 'Tracking'}, 'Studio': {'endpoint': 'https://ml.azure.com/runs/great_toe_q6mfgx0ztj?wsid=/subscriptions/bc82dccd-f19d-42cb-9ce3-0d5df33ef086/resourcegroups/a0047-STUFIIT-ML01/workspaces/a0047stufiitml01&tid=5dbf1add-202a-4b8d-815b-bf0fb024e033', 'type': 'Studio'}}, 'comment': None, 'job_inputs': {'input_data': {'type': 'uri_folder', 'path': 'azureml://subscriptions/bc82dccd-f19d-42cb-9ce3-0d5df33ef086/resourcegroups/a0047-STUFIIT-ML01/workspaces/a0047stufiitml01/datastores/workspaceblobstore/paths/datasets/sivak-tiger/thrash/', 'mode': 'ro_mount'}}, 'job_outputs': {'default': {'type': 'uri_folder', 'path': 'azureml://datastores/workspaceartifactstore/ExperimentRun/dcid.great_toe_q6mfgx0ztj', 'mode': 'rw_mount'}}, 'inputs': {'input_data': <azure.ai.ml.entities._job.pipeline._io.base.NodeInput object at 0x134c4ce00>}, 'outputs': {'default': <azure.ai.ml.entities._job.pipeline._io.base.NodeOutput object at 0x134c4ccb0>}, 'component': CommandComponent({'latest_version': None, 'intellectual_property': None, 'auto_increment_version': True, 'source': 'REMOTE.WORKSPACE.JOB', 'is_anonymous': False, 'auto_delete_setting': None, 'name': 'great_toe_q6mfgx0ztj', 'description': None, 'tags': {}, 'properties': {}, 'print_as_yaml': False, 'id': None, 'Resource__source_path': None, 'base_path': '/Users/martinsivak/Library/CloudStorage/OneDrive-SlovenskátechnickáuniverzitavBratislave/FIIT-STU/bc_thesis/bc_project/src/azure', 'creation_context': <azure.ai.ml.entities._system_data.SystemData object at 0x137d985c0>, 'serialize': <msrest.serialization.Serializer object at 0x136a5c680>, 'command': 'python main.py --data_path ${{inputs.input_data}} --wandb 80d7df7ab330e7fe22301afbab951204c5c0b33a --wandb_proj_name segmentation --wandb_run_name run --train_images_path processed_tiger/patches/images --train_masks_path processed_tiger/patches/masks/fused_leave_1_out --test_images_path processed_tnbc/patches/images --test_masks_path processed_tnbc/patches/masks --config ./configs/model_train_base.yaml', 'code': '/subscriptions/bc82dccd-f19d-42cb-9ce3-0d5df33ef086/resourceGroups/a0047-STUFIIT-ML01/providers/Microsoft.MachineLearningServices/workspaces/a0047stufiitml01/codes/6bca172b-3e38-460d-8447-c1125eaa544e/versions/1', 'environment_variables': {}, 'environment': '/subscriptions/bc82dccd-f19d-42cb-9ce3-0d5df33ef086/resourceGroups/a0047-STUFIIT-ML01/providers/Microsoft.MachineLearningServices/workspaces/a0047stufiitml01/environments/tiger-segmentation/versions/6', 'distribution': None, 'resources': None, 'queue_settings': None, 'version': None, 'schema': None, 'type': 'command', 'display_name': 'segmentation_training', 'is_deterministic': True, 'inputs': {'input_data': {'type': 'uri_folder', 'path': 'azureml://subscriptions/bc82dccd-f19d-42cb-9ce3-0d5df33ef086/resourcegroups/a0047-STUFIIT-ML01/workspaces/a0047stufiitml01/datastores/workspaceblobstore/paths/datasets/sivak-tiger/thrash/', 'mode': 'ro_mount'}}, 'outputs': {'default': {'type': 'uri_folder', 'path': 'azureml://datastores/workspaceartifactstore/ExperimentRun/dcid.great_toe_q6mfgx0ztj', 'mode': 'rw_mount'}}, 'yaml_str': None, 'other_parameter': {'status': 'Starting', 'parameters': {}}, 'additional_includes': []}), 'referenced_control_flow_node_instance_id': None, 'kwargs': {'services': {'Tracking': {'endpoint': 'azureml://westeurope.api.azureml.ms/mlflow/v1.0/subscriptions/bc82dccd-f19d-42cb-9ce3-0d5df33ef086/resourceGroups/a0047-STUFIIT-ML01/providers/Microsoft.MachineLearningServices/workspaces/a0047stufiitml01?', 'type': 'Tracking'}, 'Studio': {'endpoint': 'https://ml.azure.com/runs/great_toe_q6mfgx0ztj?wsid=/subscriptions/bc82dccd-f19d-42cb-9ce3-0d5df33ef086/resourcegroups/a0047-STUFIIT-ML01/workspaces/a0047stufiitml01&tid=5dbf1add-202a-4b8d-815b-bf0fb024e033', 'type': 'Studio'}}, 'status': 'Starting', 'creation_context': <azure.ai.ml.entities._system_data.SystemData object at 0x137d985c0>}, 'instance_id': 'f6a89eec-3e49-4715-89cb-0cc4179b0ac0', 'source': 'BUILDER', 'validate_required_input_not_provided': True, 'limits': None, 'identity': None, 'distribution': None, 'environment_variables': {}, 'environment': 'tiger-segmentation:6', 'resources': {'instance_count': 1, 'shm_size': '2g'}, 'queue_settings': {'job_tier': 'null'}, 'parent_job_name': None, 'swept': False})",
      "text/html": "<table style=\"width:100%\"><tr><th>Experiment</th><th>Name</th><th>Type</th><th>Status</th><th>Details Page</th></tr><tr><td>xsivakm1_segmentation</td><td>great_toe_q6mfgx0ztj</td><td>command</td><td>Starting</td><td><a href=\"https://ml.azure.com/runs/great_toe_q6mfgx0ztj?wsid=/subscriptions/bc82dccd-f19d-42cb-9ce3-0d5df33ef086/resourcegroups/a0047-STUFIIT-ML01/workspaces/a0047stufiitml01&amp;tid=5dbf1add-202a-4b8d-815b-bf0fb024e033\" target=\"_blank\" rel=\"noopener\">Link to Azure Machine Learning studio</a></td></tr></table>"
     },
     "execution_count": 51,
     "metadata": {},
     "output_type": "execute_result"
    }
   ],
   "source": [
    "# Define jobs\n",
    "job = command(\n",
    "    code=job_conf[\"code\"],  # Project folder (contains main.py)\n",
    "    command=f\"python main.py \"\n",
    "            f\"--data_path ${{{{inputs.input_data}}}} \"\n",
    "            f\"--wandb {job_args_conf['wandb']} \"\n",
    "            f\"--wandb_proj_name {job_args_conf['wandb_proj_name']} \"\n",
    "            f\"--wandb_run_name {job_args_conf['wandb_run_name']} \"\n",
    "            f\"--train_images_path {job_args_conf['train_images_path']} \"\n",
    "            f\"--train_masks_path {job_args_conf['train_masks_path']} \"\n",
    "            f\"--test_images_path {job_args_conf['test_images_path']} \"\n",
    "            f\"--test_masks_path {job_args_conf['test_masks_path']} \"\n",
    "            f\"--config {job_args_conf['config']}\",\n",
    "    inputs={\n",
    "        \"input_data\": Input(\n",
    "            type=\"uri_folder\",\n",
    "            path=dataset.path,\n",
    "            mode=\"ro_mount\"\n",
    "            )\n",
    "    },\n",
    "    environment=env,\n",
    "    experiment_name=job_conf[\"experiment_name\"],\n",
    "    compute=job_conf[\"compute\"],  # compute cluster name\n",
    "    display_name=job_conf[\"azure_display_name\"]  # run display name\n",
    "    )\n",
    "        \n",
    "# Submit the job\n",
    "ml_client.jobs.create_or_update(job)"
   ],
   "metadata": {
    "collapsed": false,
    "ExecuteTime": {
     "end_time": "2025-05-10T20:36:34.488111Z",
     "start_time": "2025-05-10T20:35:45.278451Z"
    }
   },
   "id": "b5705f52f170bb5b",
   "execution_count": 51
  },
  {
   "cell_type": "code",
   "outputs": [],
   "source": [],
   "metadata": {
    "collapsed": false,
    "ExecuteTime": {
     "end_time": "2025-05-10T20:36:34.490749Z",
     "start_time": "2025-05-10T20:36:34.489154Z"
    }
   },
   "id": "31647c978df1660f",
   "execution_count": 51
  }
 ],
 "metadata": {
  "kernelspec": {
   "display_name": "Python 3",
   "language": "python",
   "name": "python3"
  },
  "language_info": {
   "codemirror_mode": {
    "name": "ipython",
    "version": 2
   },
   "file_extension": ".py",
   "mimetype": "text/x-python",
   "name": "python",
   "nbconvert_exporter": "python",
   "pygments_lexer": "ipython2",
   "version": "2.7.6"
  }
 },
 "nbformat": 4,
 "nbformat_minor": 5
}
