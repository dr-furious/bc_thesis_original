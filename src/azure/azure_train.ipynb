{
 "cells": [
  {
   "cell_type": "markdown",
   "source": [
    "# Job creation and submission to Azure\n",
    "\n",
    "**!Important!** \n",
    "This script uses **Azure SDKv2** for the creation of the training job. \n",
    "The notebook used for uploading the data uses **Azure SDKv1**"
   ],
   "metadata": {
    "collapsed": false
   },
   "id": "aa31f784b046780d"
  },
  {
   "cell_type": "code",
   "execution_count": 11,
   "id": "initial_id",
   "metadata": {
    "collapsed": true,
    "ExecuteTime": {
     "end_time": "2025-04-24T04:24:57.864020Z",
     "start_time": "2025-04-24T04:24:57.856986Z"
    }
   },
   "outputs": [],
   "source": [
    "import os\n",
    "from azure.ai.ml import MLClient, Input\n",
    "from azure.identity import DefaultAzureCredential\n",
    "from azure.ai.ml.entities import Environment\n",
    "from azure.ai.ml import command"
   ]
  },
  {
   "cell_type": "code",
   "outputs": [
    {
     "data": {
      "text/plain": "{'subscription_id': 'bc82dccd-f19d-42cb-9ce3-0d5df33ef086',\n 'resource_group': 'a0047-STUFIIT-ML01',\n 'workspace_name': 'a0047stufiitml01'}"
     },
     "execution_count": 12,
     "metadata": {},
     "output_type": "execute_result"
    }
   ],
   "source": [
    "from src.utils import load_json\n",
    "\n",
    "config = load_json(\"./../../configs/azure_config.json\")\n",
    "config"
   ],
   "metadata": {
    "collapsed": false,
    "ExecuteTime": {
     "end_time": "2025-04-24T04:24:57.874432Z",
     "start_time": "2025-04-24T04:24:57.866143Z"
    }
   },
   "id": "3153cb0d966af0f6",
   "execution_count": 12
  },
  {
   "cell_type": "code",
   "outputs": [
    {
     "name": "stderr",
     "output_type": "stream",
     "text": [
      "Overriding of current TracerProvider is not allowed\n",
      "Overriding of current LoggerProvider is not allowed\n",
      "Overriding of current MeterProvider is not allowed\n",
      "Attempting to instrument while already instrumented\n",
      "Attempting to instrument while already instrumented\n",
      "Attempting to instrument while already instrumented\n"
     ]
    }
   ],
   "source": [
    "# Authenticate and create a MLClient instance\n",
    "credential = DefaultAzureCredential()\n",
    "ml_client = MLClient(\n",
    "    credential=credential,\n",
    "    subscription_id=config[\"subscription_id\"],\n",
    "    resource_group_name=config[\"resource_group\"],\n",
    "    workspace_name=config[\"workspace_name\"]\n",
    ")"
   ],
   "metadata": {
    "collapsed": false,
    "ExecuteTime": {
     "end_time": "2025-04-24T04:24:58.268207Z",
     "start_time": "2025-04-24T04:24:57.883741Z"
    }
   },
   "id": "12761ba04b0f9376",
   "execution_count": 13
  },
  {
   "cell_type": "code",
   "outputs": [
    {
     "name": "stdout",
     "output_type": "stream",
     "text": [
      "a0047stufiitml01\twesteurope\ta0047-STUFIIT-ML01\n"
     ]
    }
   ],
   "source": [
    "# Check connection to workspace\n",
    "ws = ml_client.workspaces.get(ml_client.workspace_name)\n",
    "print(ws.name, ws.location, ws.resource_group, sep='\\t')"
   ],
   "metadata": {
    "collapsed": false,
    "ExecuteTime": {
     "end_time": "2025-04-24T04:25:00.124144Z",
     "start_time": "2025-04-24T04:24:58.273696Z"
    }
   },
   "id": "3578cc4620b27a11",
   "execution_count": 14
  },
  {
   "cell_type": "code",
   "outputs": [
    {
     "name": "stdout",
     "output_type": "stream",
     "text": [
      "xsivakm1_tiger_segmentation\n",
      "azureml://subscriptions/bc82dccd-f19d-42cb-9ce3-0d5df33ef086/resourcegroups/a0047-STUFIIT-ML01/workspaces/a0047stufiitml01/datastores/workspaceblobstore/paths/datasets/xsivakm1/tiger/normalized/\n"
     ]
    }
   ],
   "source": [
    "# Get created Dataset as Data Asset\n",
    "dataset = ml_client.data.get(name=\"xsivakm1_tiger_segmentation\", version=\"1\")\n",
    "\n",
    "print(dataset.name)\n",
    "print(dataset.path)"
   ],
   "metadata": {
    "collapsed": false,
    "ExecuteTime": {
     "end_time": "2025-04-24T04:25:00.961872Z",
     "start_time": "2025-04-24T04:25:00.124954Z"
    }
   },
   "id": "d97f0a2e248f1dc7",
   "execution_count": 15
  },
  {
   "cell_type": "code",
   "outputs": [
    {
     "name": "stdout",
     "output_type": "stream",
     "text": [
      "conda_file:\n",
      "  channels:\n",
      "  - defaults\n",
      "  - conda-forge\n",
      "  dependencies:\n",
      "  - python=3.12\n",
      "  - pip\n",
      "  - pip:\n",
      "    - torch\n",
      "    - torchvision\n",
      "    - pytorch-lightning\n",
      "    - segmentation-models-pytorch\n",
      "    - wandb\n",
      "    - opencv-python-headless\n",
      "    - pyyaml\n",
      "    - json5\n",
      "  name: tiger-segmentation\n",
      "description: For segmentation training on TIGER dataset\n",
      "image: mcr.microsoft.com/azureml/openmpi4.1.0-ubuntu20.04\n",
      "name: tiger-segmentation\n",
      "tags: {}\n"
     ]
    }
   ],
   "source": [
    "# Prepare Environment\n",
    "env = Environment(\n",
    "    name=\"tiger-segmentation\",\n",
    "    description=\"For segmentation training on TIGER dataset\",\n",
    "    image=\"mcr.microsoft.com/azureml/openmpi4.1.0-ubuntu20.04\",\n",
    "    conda_file=\"./azure_conda.yaml\"\n",
    ")\n",
    "\n",
    "print(env)"
   ],
   "metadata": {
    "collapsed": false,
    "ExecuteTime": {
     "end_time": "2025-04-24T15:08:19.738898Z",
     "start_time": "2025-04-24T15:08:19.630492Z"
    }
   },
   "id": "42862bc6e84b8f6",
   "execution_count": 22
  },
  {
   "cell_type": "code",
   "outputs": [
    {
     "data": {
      "text/plain": "['normalized_blur_otsu',\n 'hematoxylin_blur_adaptive',\n 'raw_otsu',\n 'raw_eq_blur_otsu',\n 'normalized_adaptive',\n 'raw_adaptive',\n 'normalized_blur_adaptive',\n 'hematoxylin_adaptive',\n 'raw_blur_otsu',\n 'normalized_eq_otsu',\n 'hematoxylin_otsu',\n 'hematoxylin_eq_blur_otsu',\n 'hematoxylin_blur_otsu',\n 'raw_eq_otsu',\n 'raw_eq_adaptive',\n 'raw_blur_adaptive',\n 'raw_eq_blur_adaptive',\n 'normalized_eq_blur_otsu',\n 'normalized_eq_blur_adaptive',\n 'normalized_eq_adaptive',\n 'normalized_otsu',\n 'hematoxylin_eq_otsu',\n 'hematoxylin_eq_blur_adaptive',\n 'hematoxylin_eq_adaptive']"
     },
     "execution_count": 23,
     "metadata": {},
     "output_type": "execute_result"
    }
   ],
   "source": [
    "mask_dirs = os.listdir(\"./../../data/processed-train/patches/masks\")\n",
    "mask_dirs"
   ],
   "metadata": {
    "collapsed": false,
    "ExecuteTime": {
     "end_time": "2025-04-24T15:08:22.785119Z",
     "start_time": "2025-04-24T15:08:22.771939Z"
    }
   },
   "id": "c0b106f00ec00cda",
   "execution_count": 23
  },
  {
   "cell_type": "code",
   "outputs": [
    {
     "name": "stderr",
     "output_type": "stream",
     "text": [
      "Warning: the provided asset name 'tiger-segmentation' will not be used for anonymous registration\n",
      "Warning: the provided asset name 'tiger-segmentation' will not be used for anonymous registration\n",
      "\u001B[32mUploading bc_project (0.01 MBs): 100%|██████████| 8548/8548 [00:00<00:00, 22023.61it/s]\n",
      "\u001B[39m\n",
      "\n",
      "Warning: the provided asset name 'tiger-segmentation' will not be used for anonymous registration\n",
      "Warning: the provided asset name 'tiger-segmentation' will not be used for anonymous registration\n",
      "Warning: the provided asset name 'tiger-segmentation' will not be used for anonymous registration\n",
      "Warning: the provided asset name 'tiger-segmentation' will not be used for anonymous registration\n",
      "Warning: the provided asset name 'tiger-segmentation' will not be used for anonymous registration\n",
      "Warning: the provided asset name 'tiger-segmentation' will not be used for anonymous registration\n",
      "Warning: the provided asset name 'tiger-segmentation' will not be used for anonymous registration\n",
      "Warning: the provided asset name 'tiger-segmentation' will not be used for anonymous registration\n",
      "Warning: the provided asset name 'tiger-segmentation' will not be used for anonymous registration\n",
      "Warning: the provided asset name 'tiger-segmentation' will not be used for anonymous registration\n",
      "Warning: the provided asset name 'tiger-segmentation' will not be used for anonymous registration\n",
      "Warning: the provided asset name 'tiger-segmentation' will not be used for anonymous registration\n",
      "Warning: the provided asset name 'tiger-segmentation' will not be used for anonymous registration\n",
      "Warning: the provided asset name 'tiger-segmentation' will not be used for anonymous registration\n",
      "Warning: the provided asset name 'tiger-segmentation' will not be used for anonymous registration\n",
      "Warning: the provided asset name 'tiger-segmentation' will not be used for anonymous registration\n"
     ]
    }
   ],
   "source": [
    "# Define job params\n",
    "wandb_key = \"80d7df7ab330e7fe22301afbab951204c5c0b33a\"\n",
    "model_names_cnn = [\"Unet\", \"UnetPlusPlus\",\"FPN\",\"DeepLabV3\",\"DeepLabV3Plus\",\"Linknet\",\"MAnet\",\"PAN\",\"UPerNet\"]\n",
    "model_names_vit = [\"Segformer\",\"DPT\"]\n",
    "mask_dir_name = \"hematoxylin_eq_adaptive\"\n",
    "\n",
    "proj_name_check = None\n",
    "project_name = \"set_v4\"\n",
    "\n",
    "if project_name == proj_name_check:\n",
    "    raise AssertionError(\"wandb project name should not be the same\")\n",
    "\n",
    "for model_name in model_names_cnn:\n",
    "    # Define jobs\n",
    "    job = command(\n",
    "        code=\"../../\",  # Project folder (contains main.py)\n",
    "        command=f\"python main.py --data_path ${{{{inputs.input_data}}}} --wandb {wandb_key} --wandb_proj_name {project_name} --model_name {model_name} --mask_dir_name {mask_dir_name}\",\n",
    "        inputs={\n",
    "            \"input_data\": Input(\n",
    "                type=\"uri_folder\",\n",
    "                path=dataset.path,\n",
    "                mode=\"ro_mount\"  # Mount it like .as_mount() in old SDK\n",
    "            )\n",
    "        },\n",
    "        environment=env,\n",
    "        experiment_name=f\"xsivakm1_segmentation_{project_name}\",\n",
    "        compute=\"xsivakm1-24-v100\",  # compute cluster name\n",
    "        display_name=f\"{model_name}\"  # run display name\n",
    "    )\n",
    "    \n",
    "    # Submit the job\n",
    "    ml_client.jobs.create_or_update(job)\n",
    "proj_name_check = project_name"
   ],
   "metadata": {
    "collapsed": false,
    "ExecuteTime": {
     "end_time": "2025-04-24T16:42:52.449847Z",
     "start_time": "2025-04-24T16:36:26.404014Z"
    }
   },
   "id": "b5705f52f170bb5b",
   "execution_count": 32
  },
  {
   "cell_type": "code",
   "outputs": [],
   "source": [],
   "metadata": {
    "collapsed": false,
    "ExecuteTime": {
     "end_time": "2025-04-24T04:41:05.771334Z",
     "start_time": "2025-04-24T04:41:05.769280Z"
    }
   },
   "id": "84257ac7b95b3bec",
   "execution_count": 18
  }
 ],
 "metadata": {
  "kernelspec": {
   "display_name": "Python 3",
   "language": "python",
   "name": "python3"
  },
  "language_info": {
   "codemirror_mode": {
    "name": "ipython",
    "version": 2
   },
   "file_extension": ".py",
   "mimetype": "text/x-python",
   "name": "python",
   "nbconvert_exporter": "python",
   "pygments_lexer": "ipython2",
   "version": "2.7.6"
  }
 },
 "nbformat": 4,
 "nbformat_minor": 5
}
