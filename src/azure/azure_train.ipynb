{
 "cells": [
  {
   "cell_type": "markdown",
   "source": [
    "# Job creation and submission to Azure\n",
    "\n",
    "**!Important!** \n",
    "This script uses **Azure SDKv2** for the creation of the training job. \n",
    "The notebook used for uploading the data uses **Azure SDKv1**"
   ],
   "metadata": {
    "collapsed": false
   },
   "id": "aa31f784b046780d"
  },
  {
   "cell_type": "code",
   "execution_count": 21,
   "id": "initial_id",
   "metadata": {
    "collapsed": true,
    "ExecuteTime": {
     "end_time": "2025-04-24T02:13:57.237312Z",
     "start_time": "2025-04-24T02:13:57.231676Z"
    }
   },
   "outputs": [],
   "source": [
    "import os\n",
    "from azure.ai.ml import MLClient, Input\n",
    "from azure.identity import DefaultAzureCredential\n",
    "from azure.ai.ml.entities import Environment\n",
    "from azure.ai.ml import command"
   ]
  },
  {
   "cell_type": "code",
   "outputs": [
    {
     "data": {
      "text/plain": "{'subscription_id': 'bc82dccd-f19d-42cb-9ce3-0d5df33ef086',\n 'resource_group': 'a0047-STUFIIT-ML01',\n 'workspace_name': 'a0047stufiitml01'}"
     },
     "execution_count": 2,
     "metadata": {},
     "output_type": "execute_result"
    }
   ],
   "source": [
    "from src.utils import load_json\n",
    "\n",
    "config = load_json(\"./../../configs/azure_config.json\")\n",
    "config"
   ],
   "metadata": {
    "collapsed": false,
    "ExecuteTime": {
     "end_time": "2025-04-23T22:27:22.951302Z",
     "start_time": "2025-04-23T22:27:22.859803Z"
    }
   },
   "id": "3153cb0d966af0f6",
   "execution_count": 2
  },
  {
   "cell_type": "code",
   "outputs": [],
   "source": [
    "# Authenticate and create a MLClient instance\n",
    "credential = DefaultAzureCredential()\n",
    "ml_client = MLClient(\n",
    "    credential=credential,\n",
    "    subscription_id=config[\"subscription_id\"],\n",
    "    resource_group_name=config[\"resource_group\"],\n",
    "    workspace_name=config[\"workspace_name\"]\n",
    ")"
   ],
   "metadata": {
    "collapsed": false,
    "ExecuteTime": {
     "end_time": "2025-04-23T22:27:24.355906Z",
     "start_time": "2025-04-23T22:27:22.952139Z"
    }
   },
   "id": "12761ba04b0f9376",
   "execution_count": 3
  },
  {
   "cell_type": "code",
   "outputs": [
    {
     "name": "stdout",
     "output_type": "stream",
     "text": [
      "a0047stufiitml01\twesteurope\ta0047-STUFIIT-ML01\n"
     ]
    }
   ],
   "source": [
    "# Check connection to workspace\n",
    "ws = ml_client.workspaces.get(ml_client.workspace_name)\n",
    "print(ws.name, ws.location, ws.resource_group, sep='\\t')"
   ],
   "metadata": {
    "collapsed": false,
    "ExecuteTime": {
     "end_time": "2025-04-23T22:27:26.233743Z",
     "start_time": "2025-04-23T22:27:24.356662Z"
    }
   },
   "id": "3578cc4620b27a11",
   "execution_count": 4
  },
  {
   "cell_type": "code",
   "outputs": [
    {
     "name": "stdout",
     "output_type": "stream",
     "text": [
      "xsivakm1_tiger\n",
      "azureml://subscriptions/bc82dccd-f19d-42cb-9ce3-0d5df33ef086/resourcegroups/a0047-STUFIIT-ML01/workspaces/a0047stufiitml01/datastores/workspaceblobstore/paths/datasets/sivak-tiger/\n"
     ]
    }
   ],
   "source": [
    "# Get created Dataset as Data Asset\n",
    "dataset = ml_client.data.get(name=\"xsivakm1_tiger_segmentation\", version=\"1\")\n",
    "\n",
    "print(dataset.name)\n",
    "print(dataset.path)"
   ],
   "metadata": {
    "collapsed": false,
    "ExecuteTime": {
     "end_time": "2025-04-23T22:27:26.955655Z",
     "start_time": "2025-04-23T22:27:26.235918Z"
    }
   },
   "id": "d97f0a2e248f1dc7",
   "execution_count": 5
  },
  {
   "cell_type": "code",
   "outputs": [
    {
     "name": "stdout",
     "output_type": "stream",
     "text": [
      "conda_file:\n",
      "  channels:\n",
      "  - defaults\n",
      "  - conda-forge\n",
      "  dependencies:\n",
      "  - python=3.12\n",
      "  - pip\n",
      "  - pip:\n",
      "    - torch\n",
      "    - torchvision\n",
      "    - pytorch-lightning\n",
      "    - segmentation-models-pytorch\n",
      "    - wandb\n",
      "    - opencv-python-headless\n",
      "    - pyyaml\n",
      "    - json5\n",
      "  name: tiger-segmentation\n",
      "description: For segmentation training on TIGER dataset\n",
      "image: mcr.microsoft.com/azureml/openmpi4.1.0-ubuntu20.04\n",
      "name: tiger-segmentation\n",
      "tags: {}\n"
     ]
    }
   ],
   "source": [
    "# Prepare Environment\n",
    "env = Environment(\n",
    "    name=\"tiger-segmentation\",\n",
    "    description=\"For segmentation training on TIGER dataset\",\n",
    "    image=\"mcr.microsoft.com/azureml/openmpi4.1.0-ubuntu20.04\",\n",
    "    conda_file=\"./azure_conda.yaml\"\n",
    ")\n",
    "\n",
    "print(env)"
   ],
   "metadata": {
    "collapsed": false,
    "ExecuteTime": {
     "end_time": "2025-04-23T23:41:25.168885Z",
     "start_time": "2025-04-23T23:41:25.113754Z"
    }
   },
   "id": "42862bc6e84b8f6",
   "execution_count": 18
  },
  {
   "cell_type": "code",
   "outputs": [
    {
     "data": {
      "text/plain": "['normalized_blur_otsu',\n 'hematoxylin_blur_adaptive',\n 'raw_otsu',\n 'raw_eq_blur_otsu',\n 'normalized_adaptive',\n 'raw_adaptive',\n 'normalized_blur_adaptive',\n 'hematoxylin_adaptive',\n 'raw_blur_otsu',\n 'normalized_eq_otsu',\n 'hematoxylin_otsu',\n 'hematoxylin_eq_blur_otsu',\n 'hematoxylin_blur_otsu',\n 'raw_eq_otsu',\n 'raw_eq_adaptive',\n 'raw_blur_adaptive',\n 'raw_eq_blur_adaptive',\n 'normalized_eq_blur_otsu',\n 'normalized_eq_blur_adaptive',\n 'normalized_eq_adaptive',\n 'normalized_otsu',\n 'hematoxylin_eq_otsu',\n 'hematoxylin_eq_blur_adaptive',\n 'hematoxylin_eq_adaptive']"
     },
     "execution_count": 22,
     "metadata": {},
     "output_type": "execute_result"
    }
   ],
   "source": [
    "mask_dirs = os.listdir(\"./../../data/processed-train/patches/masks\")\n",
    "mask_dirs"
   ],
   "metadata": {
    "collapsed": false,
    "ExecuteTime": {
     "end_time": "2025-04-24T02:14:03.841029Z",
     "start_time": "2025-04-24T02:14:03.828904Z"
    }
   },
   "id": "c0b106f00ec00cda",
   "execution_count": 22
  },
  {
   "cell_type": "code",
   "outputs": [
    {
     "name": "stderr",
     "output_type": "stream",
     "text": [
      "Warning: the provided asset name 'tiger-segmentation' will not be used for anonymous registration\n",
      "Warning: the provided asset name 'tiger-segmentation' will not be used for anonymous registration\n",
      "Uploading bc_project (2.05 MBs): 100%|██████████| 2048370/2048370 [00:10<00:00, 197295.15it/s]\n",
      "\n",
      "\n"
     ]
    },
    {
     "data": {
      "text/plain": "Command({'parameters': {}, 'init': False, 'name': 'tender_papaya_0s19f7s7zs', 'type': 'command', 'status': 'Starting', 'log_files': None, 'description': None, 'tags': {}, 'properties': {'mlflow.source.git.repoURL': 'https://github.com/dr-furious/bc_thesis_original.git', 'mlflow.source.git.branch': 'main', 'mlflow.source.git.commit': '6782a6ddf70071a79c999d89ed1f2777585754e2', 'azureml.git.dirty': 'True', '_azureml.ComputeTargetType': 'amlctrain', '_azureml.ClusterName': 'xsivakm1-24-v100', 'ContentSnapshotId': '35e1c447-706d-4d46-af95-2332caa5ee91'}, 'print_as_yaml': False, 'id': '/subscriptions/bc82dccd-f19d-42cb-9ce3-0d5df33ef086/resourceGroups/a0047-STUFIIT-ML01/providers/Microsoft.MachineLearningServices/workspaces/a0047stufiitml01/jobs/tender_papaya_0s19f7s7zs', 'Resource__source_path': '', 'base_path': '/Users/martinsivak/Library/CloudStorage/OneDrive-SlovenskátechnickáuniverzitavBratislave/FIIT-STU/bc_thesis/bc_project/src/azure', 'creation_context': <azure.ai.ml.entities._system_data.SystemData object at 0x13b9e9220>, 'serialize': <msrest.serialization.Serializer object at 0x13ecb18b0>, 'allowed_keys': {}, 'key_restriction': False, 'logger': <Logger attr_dict (WARNING)>, 'display_name': 'raw_otsu', 'experiment_name': 'xsivakm1_segmentation_Unet', 'compute': 'xsivakm1-24-v100', 'services': {'Tracking': {'endpoint': 'azureml://westeurope.api.azureml.ms/mlflow/v1.0/subscriptions/bc82dccd-f19d-42cb-9ce3-0d5df33ef086/resourceGroups/a0047-STUFIIT-ML01/providers/Microsoft.MachineLearningServices/workspaces/a0047stufiitml01?', 'type': 'Tracking'}, 'Studio': {'endpoint': 'https://ml.azure.com/runs/tender_papaya_0s19f7s7zs?wsid=/subscriptions/bc82dccd-f19d-42cb-9ce3-0d5df33ef086/resourcegroups/a0047-STUFIIT-ML01/workspaces/a0047stufiitml01&tid=5dbf1add-202a-4b8d-815b-bf0fb024e033', 'type': 'Studio'}}, 'comment': None, 'job_inputs': {'input_data': {'type': 'uri_folder', 'path': 'azureml://subscriptions/bc82dccd-f19d-42cb-9ce3-0d5df33ef086/resourcegroups/a0047-STUFIIT-ML01/workspaces/a0047stufiitml01/datastores/workspaceblobstore/paths/datasets/sivak-tiger/', 'mode': 'ro_mount'}}, 'job_outputs': {'default': {'type': 'uri_folder', 'path': 'azureml://datastores/workspaceartifactstore/ExperimentRun/dcid.tender_papaya_0s19f7s7zs', 'mode': 'rw_mount'}}, 'inputs': {'input_data': <azure.ai.ml.entities._job.pipeline._io.base.NodeInput object at 0x13ecb10d0>}, 'outputs': {'default': <azure.ai.ml.entities._job.pipeline._io.base.NodeOutput object at 0x13f13f410>}, 'component': CommandComponent({'latest_version': None, 'intellectual_property': None, 'auto_increment_version': True, 'source': 'REMOTE.WORKSPACE.JOB', 'is_anonymous': False, 'auto_delete_setting': None, 'name': 'tender_papaya_0s19f7s7zs', 'description': None, 'tags': {}, 'properties': {}, 'print_as_yaml': False, 'id': None, 'Resource__source_path': None, 'base_path': '/Users/martinsivak/Library/CloudStorage/OneDrive-SlovenskátechnickáuniverzitavBratislave/FIIT-STU/bc_thesis/bc_project/src/azure', 'creation_context': <azure.ai.ml.entities._system_data.SystemData object at 0x13b9e9220>, 'serialize': <msrest.serialization.Serializer object at 0x13e95c0b0>, 'command': 'python main.py --data_path ${{inputs.input_data}} --wandb 80d7df7ab330e7fe22301afbab951204c5c0b33a --model_name Unet --mask_dir_name raw_otsu', 'code': '/subscriptions/bc82dccd-f19d-42cb-9ce3-0d5df33ef086/resourceGroups/a0047-STUFIIT-ML01/providers/Microsoft.MachineLearningServices/workspaces/a0047stufiitml01/codes/f4ef9ac8-df83-41e7-b10a-3256b6b57060/versions/1', 'environment_variables': {}, 'environment': '/subscriptions/bc82dccd-f19d-42cb-9ce3-0d5df33ef086/resourceGroups/a0047-STUFIIT-ML01/providers/Microsoft.MachineLearningServices/workspaces/a0047stufiitml01/environments/tiger-segmentation/versions/5', 'distribution': None, 'resources': None, 'queue_settings': None, 'version': None, 'schema': None, 'type': 'command', 'display_name': 'raw_otsu', 'is_deterministic': True, 'inputs': {'input_data': {'type': 'uri_folder', 'path': 'azureml://subscriptions/bc82dccd-f19d-42cb-9ce3-0d5df33ef086/resourcegroups/a0047-STUFIIT-ML01/workspaces/a0047stufiitml01/datastores/workspaceblobstore/paths/datasets/sivak-tiger/', 'mode': 'ro_mount'}}, 'outputs': {'default': {'type': 'uri_folder', 'path': 'azureml://datastores/workspaceartifactstore/ExperimentRun/dcid.tender_papaya_0s19f7s7zs', 'mode': 'rw_mount'}}, 'yaml_str': None, 'other_parameter': {'status': 'Starting', 'parameters': {}}, 'additional_includes': []}), 'referenced_control_flow_node_instance_id': None, 'kwargs': {'services': {'Tracking': {'endpoint': 'azureml://westeurope.api.azureml.ms/mlflow/v1.0/subscriptions/bc82dccd-f19d-42cb-9ce3-0d5df33ef086/resourceGroups/a0047-STUFIIT-ML01/providers/Microsoft.MachineLearningServices/workspaces/a0047stufiitml01?', 'type': 'Tracking'}, 'Studio': {'endpoint': 'https://ml.azure.com/runs/tender_papaya_0s19f7s7zs?wsid=/subscriptions/bc82dccd-f19d-42cb-9ce3-0d5df33ef086/resourcegroups/a0047-STUFIIT-ML01/workspaces/a0047stufiitml01&tid=5dbf1add-202a-4b8d-815b-bf0fb024e033', 'type': 'Studio'}}, 'status': 'Starting', 'creation_context': <azure.ai.ml.entities._system_data.SystemData object at 0x13b9e9220>}, 'instance_id': 'da3b4516-ef8b-4339-88aa-be1db7250806', 'source': 'BUILDER', 'validate_required_input_not_provided': True, 'limits': None, 'identity': None, 'distribution': None, 'environment_variables': {}, 'environment': 'tiger-segmentation:5', 'resources': {'instance_count': 1, 'shm_size': '2g'}, 'queue_settings': {'job_tier': 'null'}, 'parent_job_name': None, 'swept': False})",
      "text/html": "<table style=\"width:100%\"><tr><th>Experiment</th><th>Name</th><th>Type</th><th>Status</th><th>Details Page</th></tr><tr><td>xsivakm1_segmentation_Unet</td><td>tender_papaya_0s19f7s7zs</td><td>command</td><td>Starting</td><td><a href=\"https://ml.azure.com/runs/tender_papaya_0s19f7s7zs?wsid=/subscriptions/bc82dccd-f19d-42cb-9ce3-0d5df33ef086/resourcegroups/a0047-STUFIIT-ML01/workspaces/a0047stufiitml01&amp;tid=5dbf1add-202a-4b8d-815b-bf0fb024e033\" target=\"_blank\" rel=\"noopener\">Link to Azure Machine Learning studio</a></td></tr></table>"
     },
     "execution_count": 19,
     "metadata": {},
     "output_type": "execute_result"
    }
   ],
   "source": [
    "# Define job params\n",
    "wandb_key = \"80d7df7ab330e7fe22301afbab951204c5c0b33a\"\n",
    "model_name = \"Unet\"\n",
    "\n",
    "for mask_dir_name in mask_dirs:\n",
    "    # Define jobs\n",
    "    job = command(\n",
    "        code=\"../../\",  # Project folder (contains main.py)\n",
    "        command=f\"python main.py --data_path ${{{{inputs.input_data}}}} --wandb {wandb_key} --model_name {model_name} --mask_dir_name {mask_dir_name}\",\n",
    "        inputs={\n",
    "            \"input_data\": Input(\n",
    "                type=\"uri_folder\",\n",
    "                path=dataset.path,\n",
    "                mode=\"ro_mount\"  # Mount it like .as_mount() in old SDK\n",
    "            )\n",
    "        },\n",
    "        environment=env,\n",
    "        experiment_name=f\"xsivakm1_segmentation_{model_name}\",\n",
    "        compute=\"xsivakm1-24-v100\",  # compute cluster name\n",
    "        display_name=f\"{mask_dir_name}\"  # run display name\n",
    "    )\n",
    "    \n",
    "    # Submit the job\n",
    "    ml_client.jobs.create_or_update(job)"
   ],
   "metadata": {
    "collapsed": false,
    "ExecuteTime": {
     "end_time": "2025-04-23T23:43:16.789992Z",
     "start_time": "2025-04-23T23:41:26.326279Z"
    }
   },
   "id": "b5705f52f170bb5b",
   "execution_count": 19
  },
  {
   "cell_type": "code",
   "outputs": [],
   "source": [],
   "metadata": {
    "collapsed": false,
    "ExecuteTime": {
     "end_time": "2025-04-23T22:28:55.590355Z",
     "start_time": "2025-04-23T22:28:55.588395Z"
    }
   },
   "id": "84257ac7b95b3bec",
   "execution_count": 7
  }
 ],
 "metadata": {
  "kernelspec": {
   "display_name": "Python 3",
   "language": "python",
   "name": "python3"
  },
  "language_info": {
   "codemirror_mode": {
    "name": "ipython",
    "version": 2
   },
   "file_extension": ".py",
   "mimetype": "text/x-python",
   "name": "python",
   "nbconvert_exporter": "python",
   "pygments_lexer": "ipython2",
   "version": "2.7.6"
  }
 },
 "nbformat": 4,
 "nbformat_minor": 5
}
