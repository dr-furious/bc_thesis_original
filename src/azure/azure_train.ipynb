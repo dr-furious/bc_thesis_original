{
 "cells": [
  {
   "cell_type": "markdown",
   "source": [
    "# Job creation and submission to Azure\n",
    "\n",
    "**!Important!** \n",
    "This script uses **Azure SDKv2** for the creation of the training job. \n",
    "The notebook used for uploading the data uses **Azure SDKv1**"
   ],
   "metadata": {
    "collapsed": false
   },
   "id": "aa31f784b046780d"
  },
  {
   "cell_type": "code",
   "execution_count": null,
   "id": "initial_id",
   "metadata": {
    "collapsed": true
   },
   "outputs": [],
   "source": [
    "import os\n",
    "from azure.ai.ml import MLClient, Input\n",
    "from azure.identity import DefaultAzureCredential\n",
    "from azure.ai.ml.entities import Environment\n",
    "from azure.ai.ml import command\n",
    "\n",
    "from src.utils import load_json, load_yaml"
   ]
  },
  {
   "cell_type": "code",
   "outputs": [],
   "source": [
    "azure_connect_conf = load_json(\"./../../configs/azure_connect_example.json\")\n",
    "azure_connect_conf"
   ],
   "metadata": {
    "collapsed": false
   },
   "id": "3153cb0d966af0f6",
   "execution_count": null
  },
  {
   "cell_type": "code",
   "outputs": [],
   "source": [
    "azure_job_conf = load_yaml(\"./../../configs/azure_job.yaml\")\n",
    "dataset_conf = azure_job_conf[\"dataset\"]\n",
    "environment_conf = azure_job_conf[\"environment\"]\n",
    "job_conf = azure_job_conf[\"job\"]\n",
    "job_args_conf = job_conf[\"args\"]"
   ],
   "metadata": {
    "collapsed": false
   },
   "id": "88102af6eab38165",
   "execution_count": null
  },
  {
   "cell_type": "code",
   "outputs": [],
   "source": [
    "# Authenticate and create a MLClient instance\n",
    "credential = DefaultAzureCredential()\n",
    "ml_client = MLClient(\n",
    "    credential=credential,\n",
    "    subscription_id=azure_connect_conf[\"subscription_id\"],\n",
    "    resource_group_name=azure_connect_conf[\"resource_group\"],\n",
    "    workspace_name=azure_connect_conf[\"workspace_name\"]\n",
    ")"
   ],
   "metadata": {
    "collapsed": false
   },
   "id": "12761ba04b0f9376",
   "execution_count": null
  },
  {
   "cell_type": "code",
   "outputs": [],
   "source": [
    "# Check connection to workspace\n",
    "ws = ml_client.workspaces.get(ml_client.workspace_name)\n",
    "print(ws.name, ws.location, ws.resource_group, sep='\\t')"
   ],
   "metadata": {
    "collapsed": false
   },
   "id": "3578cc4620b27a11",
   "execution_count": null
  },
  {
   "cell_type": "code",
   "outputs": [],
   "source": [
    "# Get created Dataset as Data Asset\n",
    "dataset = ml_client.data.get(name=dataset_conf[\"name\"], version=dataset_conf[\"version\"])\n",
    "\n",
    "print(dataset.name)\n",
    "print(dataset.path)"
   ],
   "metadata": {
    "collapsed": false
   },
   "id": "d97f0a2e248f1dc7",
   "execution_count": null
  },
  {
   "cell_type": "code",
   "outputs": [],
   "source": [
    "# Prepare Environment\n",
    "env = Environment(\n",
    "    name=environment_conf[\"name\"],\n",
    "    description=environment_conf[\"description\"],\n",
    "    image=environment_conf[\"image\"],\n",
    "    conda_file=environment_conf[\"conda_file\"]\n",
    ")\n",
    "\n",
    "print(env)"
   ],
   "metadata": {
    "collapsed": false
   },
   "id": "42862bc6e84b8f6",
   "execution_count": null
  },
  {
   "cell_type": "code",
   "outputs": [],
   "source": [
    "# Define jobs\n",
    "job = command(\n",
    "    code=job_conf[\"code\"],  # Project folder (contains main.py)\n",
    "    command=f\"python main.py \"\n",
    "            f\"--data_path ${{{{inputs.input_data}}}} \"\n",
    "            f\"--wandb {job_args_conf['wandb']} \"\n",
    "            f\"--wandb_proj_name {job_args_conf['wandb_proj_name']} \"\n",
    "            f\"--wandb_run_name {job_args_conf['wandb_run_name']} \"\n",
    "            f\"--train_images_path {job_args_conf['train_images_path']} \"\n",
    "            f\"--train_masks_path {job_args_conf['train_masks_path']} \"\n",
    "            f\"--test_images_path {job_args_conf['test_images_path']} \"\n",
    "            f\"--test_masks_path {job_args_conf['test_masks_path']} \"\n",
    "            f\"--config {job_args_conf['config']}\",\n",
    "    inputs={\n",
    "        \"input_data\": Input(\n",
    "            type=\"uri_folder\",\n",
    "            path=dataset.path,\n",
    "            mode=\"ro_mount\"\n",
    "            )\n",
    "    },\n",
    "    environment=env,\n",
    "    experiment_name=job_conf[\"experiment_name\"],\n",
    "    compute=job_conf[\"compute\"],  # compute cluster name\n",
    "    display_name=job_conf[\"azure_display_name\"]  # run display name\n",
    "    )\n",
    "        \n",
    "# Submit the job\n",
    "ml_client.jobs.create_or_update(job)"
   ],
   "metadata": {
    "collapsed": false
   },
   "id": "b5705f52f170bb5b",
   "execution_count": null
  },
  {
   "cell_type": "code",
   "outputs": [],
   "source": [],
   "metadata": {
    "collapsed": false
   },
   "id": "31647c978df1660f",
   "execution_count": null
  }
 ],
 "metadata": {
  "kernelspec": {
   "display_name": "Python 3",
   "language": "python",
   "name": "python3"
  },
  "language_info": {
   "codemirror_mode": {
    "name": "ipython",
    "version": 2
   },
   "file_extension": ".py",
   "mimetype": "text/x-python",
   "name": "python",
   "nbconvert_exporter": "python",
   "pygments_lexer": "ipython2",
   "version": "2.7.6"
  }
 },
 "nbformat": 4,
 "nbformat_minor": 5
}
